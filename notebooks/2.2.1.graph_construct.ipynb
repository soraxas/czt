{
 "cells": [
  {
   "cell_type": "markdown",
   "id": "3d892b5e-2f3b-4182-bedb-d332bfc3a353",
   "metadata": {},
   "source": [
    "# Graph Construction Step\n",
    "\n",
    "* Construct the graph for each site's transaction data\n",
    "\n",
    "Each node represents a transaction, and the edges represent the relationships between transactions. Since each site consists of the same Sender_BIC, to define the graph edge, we use the following rules:\n",
    "\n",
    "1. The two transactions are with the same Receiver_BIC.\n",
    "2. The time difference between the two transactions is smaller than 6000.\n",
    "\n",
    "Note that in real applications, such rules should be designed according to the characteristics of the candidate data."
   ]
  },
  {
   "cell_type": "markdown",
   "id": "b8498bf1-d368-4d15-a5bf-559eb6e3918b",
   "metadata": {},
   "source": [
    "### Load Data"
   ]
  },
  {
   "cell_type": "code",
   "execution_count": 3,
   "id": "db9d04f0-a64d-457b-aacf-1a3737e07e12",
   "metadata": {
    "tags": []
   },
   "outputs": [],
   "source": [
    "site_input_dir = \"processed_data\"\n",
    "site_name = \"HCBHSGSG_Bank_9\""
   ]
  },
  {
   "cell_type": "code",
   "execution_count": 4,
   "id": "2d84f89f-fe0a-4387-92a2-49ca9143c141",
   "metadata": {
    "tags": []
   },
   "outputs": [
    {
     "name": "stdout",
     "output_type": "stream",
     "text": [
      "      Fraud_Label Transaction_ID    User_ID  Transaction_Amount  \\\n",
      "0               0      TXN_25072  USER_3889              186.66   \n",
      "1               0      TXN_44495  USER_9960              243.49   \n",
      "2               0      TXN_18969  USER_7360               80.44   \n",
      "3               1       TXN_6684  USER_8906               24.71   \n",
      "4               0        TXN_288  USER_4327              102.40   \n",
      "...           ...            ...        ...                 ...   \n",
      "3584            0      TXN_47308  USER_2670               57.37   \n",
      "3585            1      TXN_21257  USER_1126               11.65   \n",
      "3586            0       TXN_2702  USER_3567              228.73   \n",
      "3587            0       TXN_7861  USER_7802               68.04   \n",
      "3588            0      TXN_20661  USER_5691              196.51   \n",
      "\n",
      "     Transaction_Type            Timestamp  Account_Balance Device_Type  \\\n",
      "0      ATM Withdrawal  2023-09-29 22:18:00         82127.65      Tablet   \n",
      "1              Online  2023-08-12 04:26:00         42356.06      Mobile   \n",
      "2      ATM Withdrawal  2023-08-29 10:45:00         56943.85      Mobile   \n",
      "3              Online  2023-11-24 23:06:00         73290.58      Tablet   \n",
      "4      ATM Withdrawal  2023-10-01 08:48:00         52686.20      Laptop   \n",
      "...               ...                  ...              ...         ...   \n",
      "3584              POS  2023-11-15 00:19:00         67420.77      Mobile   \n",
      "3585              POS  2023-08-21 15:12:00         56954.30      Laptop   \n",
      "3586   ATM Withdrawal  2023-12-29 09:05:00         94027.13      Mobile   \n",
      "3587           Online  2023-10-15 19:13:00         48508.91      Tablet   \n",
      "3588              POS  2023-11-13 07:59:00         97201.20      Laptop   \n",
      "\n",
      "     Location Merchant_Category  ...  Card_Age  Transaction_Distance  \\\n",
      "0       Tokyo       Restaurants  ...       109                 12.88   \n",
      "1       Tokyo       Restaurants  ...       104               2533.19   \n",
      "2       Tokyo         Groceries  ...       137               4224.79   \n",
      "3       Tokyo         Groceries  ...       144               2990.79   \n",
      "4       Tokyo          Clothing  ...       222                356.50   \n",
      "...       ...               ...  ...       ...                   ...   \n",
      "3584    Tokyo         Groceries  ...       209               1651.80   \n",
      "3585    Tokyo            Travel  ...       194               4320.39   \n",
      "3586    Tokyo          Clothing  ...       231               2408.03   \n",
      "3587    Tokyo            Travel  ...       163               2881.73   \n",
      "3588    Tokyo          Clothing  ...        60               3319.32   \n",
      "\n",
      "      Authentication_Method  Risk_Score  Is_Weekend Sender_BIC  Receiver_BIC  \\\n",
      "0                       PIN      0.3843           1   HCBHSGSG      FBSFCHZH   \n",
      "1                       PIN      0.2735           0   HCBHSGSG      YSYCESMM   \n",
      "2                  Password      0.2093           0   HCBHSGSG      SHSHKHH1   \n",
      "3                  Password      0.4910           0   HCBHSGSG      XITXUS33   \n",
      "4                  Password      0.5347           0   HCBHSGSG      XITXUS33   \n",
      "...                     ...         ...         ...        ...           ...   \n",
      "3584              Biometric      0.2452           0   HCBHSGSG      ZHSZUS33   \n",
      "3585              Biometric      0.4163           1   HCBHSGSG      HCBHSGSG   \n",
      "3586               Password      0.2829           0   HCBHSGSG      XITXUS33   \n",
      "3587               Password      0.2501           0   HCBHSGSG      SHSHKHH1   \n",
      "3588               Password      0.5449           1   HCBHSGSG      SHSHKHH1   \n",
      "\n",
      "      Currency Beneficiary_BIC  Currency_Country  \n",
      "0          AUD        ZNZZAU3M            Sydney  \n",
      "1          INR        YSYCESMM            Mumbai  \n",
      "2          AUD        ZNZZAU3M            Sydney  \n",
      "3          AUD        ZNZZAU3M            Sydney  \n",
      "4          GBP        YXRXGB22            London  \n",
      "...        ...             ...               ...  \n",
      "3584       INR        YSYCESMM            Mumbai  \n",
      "3585       INR        YSYCESMM            Mumbai  \n",
      "3586       USD        ZHSZUS33          New York  \n",
      "3587       INR        YSYCESMM            Mumbai  \n",
      "3588       JPY        HCBHSGSG             Tokyo  \n",
      "\n",
      "[3589 rows x 26 columns]\n",
      "      Fraud_Label Transaction_ID    User_ID  Transaction_Amount  \\\n",
      "0               1      TXN_30898  USER_5452               10.44   \n",
      "1               1      TXN_11262  USER_6358               47.97   \n",
      "2               1      TXN_26168  USER_6238               49.79   \n",
      "3               0      TXN_35974  USER_2819               28.13   \n",
      "4               0      TXN_25024  USER_3691               75.45   \n",
      "...           ...            ...        ...                 ...   \n",
      "997             0      TXN_10056  USER_4424                1.79   \n",
      "998             0      TXN_12244  USER_2300               38.16   \n",
      "999             1      TXN_43748  USER_6017              140.48   \n",
      "1000            1      TXN_36594  USER_9560              131.06   \n",
      "1001            0      TXN_33106  USER_8811               31.09   \n",
      "\n",
      "     Transaction_Type            Timestamp  Account_Balance Device_Type  \\\n",
      "0              Online  2023-07-22 10:43:00         76781.66      Tablet   \n",
      "1       Bank Transfer  2023-09-22 09:22:00          6868.08      Mobile   \n",
      "2              Online  2023-12-13 20:31:00         45333.04      Laptop   \n",
      "3       Bank Transfer  2023-10-16 16:07:00         43854.04      Tablet   \n",
      "4       Bank Transfer  2023-09-25 02:37:00         85051.70      Tablet   \n",
      "...               ...                  ...              ...         ...   \n",
      "997     Bank Transfer  2023-11-03 20:53:00         82299.26      Laptop   \n",
      "998            Online  2023-09-23 19:51:00         93968.10      Laptop   \n",
      "999               POS  2023-12-13 21:32:00         14393.00      Mobile   \n",
      "1000   ATM Withdrawal  2023-10-24 01:38:00         35133.24      Mobile   \n",
      "1001              POS  2023-11-13 02:09:00         80096.52      Mobile   \n",
      "\n",
      "     Location Merchant_Category  ...  Card_Age  Transaction_Distance  \\\n",
      "0       Tokyo            Travel  ...       186               3540.71   \n",
      "1       Tokyo         Groceries  ...       191               2536.10   \n",
      "2       Tokyo         Groceries  ...       151                185.95   \n",
      "3       Tokyo       Restaurants  ...       229               1473.37   \n",
      "4       Tokyo         Groceries  ...        79               3694.82   \n",
      "...       ...               ...  ...       ...                   ...   \n",
      "997     Tokyo       Electronics  ...       208               3153.75   \n",
      "998     Tokyo          Clothing  ...       110               4177.40   \n",
      "999     Tokyo       Restaurants  ...       139               3794.70   \n",
      "1000    Tokyo       Restaurants  ...        33               2860.27   \n",
      "1001    Tokyo            Travel  ...         3               3416.95   \n",
      "\n",
      "      Authentication_Method  Risk_Score  Is_Weekend Sender_BIC  Receiver_BIC  \\\n",
      "0                  Password      0.9875           0   HCBHSGSG      HCBHSGSG   \n",
      "1                       OTP      0.0468           1   HCBHSGSG      YMNYFRPP   \n",
      "2                       PIN      0.9989           0   HCBHSGSG      YMNYFRPP   \n",
      "3                       OTP      0.5838           1   HCBHSGSG      ZHSZUS33   \n",
      "4                       PIN      0.6473           0   HCBHSGSG      YXRXGB22   \n",
      "...                     ...         ...         ...        ...           ...   \n",
      "997                Password      0.4081           1   HCBHSGSG      ZNZZAU3M   \n",
      "998               Biometric      0.0359           0   HCBHSGSG      FBSFCHZH   \n",
      "999                     PIN      0.3975           0   HCBHSGSG      WPUWDEFF   \n",
      "1000               Password      0.1284           0   HCBHSGSG      FBSFCHZH   \n",
      "1001                    PIN      0.1936           0   HCBHSGSG      XITXUS33   \n",
      "\n",
      "      Currency Beneficiary_BIC  Currency_Country  \n",
      "0          GBP        YXRXGB22            London  \n",
      "1          JPY        HCBHSGSG             Tokyo  \n",
      "2          GBP        YXRXGB22            London  \n",
      "3          INR        YSYCESMM            Mumbai  \n",
      "4          JPY        HCBHSGSG             Tokyo  \n",
      "...        ...             ...               ...  \n",
      "997        INR        YSYCESMM            Mumbai  \n",
      "998        JPY        HCBHSGSG             Tokyo  \n",
      "999        GBP        YXRXGB22            London  \n",
      "1000       INR        YSYCESMM            Mumbai  \n",
      "1001       JPY        HCBHSGSG             Tokyo  \n",
      "\n",
      "[1002 rows x 26 columns]\n"
     ]
    }
   ],
   "source": [
    "import os\n",
    "\n",
    "import pandas as pd\n",
    "\n",
    "dataset_names = [\"train\", \"test\"]\n",
    "datasets = {}\n",
    "\n",
    "for ds_name in dataset_names:\n",
    "    file_name = os.path.join(site_input_dir, site_name, f\"{ds_name}.csv\")\n",
    "    df = pd.read_csv(file_name)\n",
    "    datasets[ds_name] = df\n",
    "    print(df)"
   ]
  },
  {
   "cell_type": "code",
   "execution_count": 5,
   "id": "ccdc785e-9597-4083-b74a-2cacb25b20cb",
   "metadata": {
    "tags": []
   },
   "outputs": [
    {
     "data": {
      "text/plain": [
       "Index(['Fraud_Label', 'Transaction_ID', 'User_ID', 'Transaction_Amount',\n",
       "       'Transaction_Type', 'Timestamp', 'Account_Balance', 'Device_Type',\n",
       "       'Location', 'Merchant_Category', 'IP_Address_Flag',\n",
       "       'Previous_Fraudulent_Activity', 'Daily_Transaction_Count',\n",
       "       'Avg_Transaction_Amount_7d', 'Failed_Transaction_Count_7d', 'Card_Type',\n",
       "       'Card_Age', 'Transaction_Distance', 'Authentication_Method',\n",
       "       'Risk_Score', 'Is_Weekend', 'Sender_BIC', 'Receiver_BIC', 'Currency',\n",
       "       'Beneficiary_BIC', 'Currency_Country'],\n",
       "      dtype='object')"
      ]
     },
     "execution_count": 5,
     "metadata": {},
     "output_type": "execute_result"
    }
   ],
   "source": [
    "df.columns"
   ]
  },
  {
   "cell_type": "code",
   "execution_count": 6,
   "id": "5bd5be54-c5e7-43c7-ad4f-de29a09bc7ec",
   "metadata": {
    "tags": []
   },
   "outputs": [
    {
     "name": "stdout",
     "output_type": "stream",
     "text": [
      "Generated edge map for train, in total 546 valid edges for 3589 transactions\n",
      "Generated edge map for test, in total 40 valid edges for 1002 transactions\n"
     ]
    }
   ],
   "source": [
    "import pandas as pd\n",
    "\n",
    "edge_maps = {}\n",
    "\n",
    "info_columns = [\"Timestamp\", \"Receiver_BIC\", \"Transaction_ID\"]\n",
    "time_threshold = 6000\n",
    "\n",
    "for ds_name in dataset_names:\n",
    "    df = datasets[ds_name]\n",
    "\n",
    "    # Find transaction pairs that are within the time threshold\n",
    "    # First sort the table by 'Timestamp'\n",
    "    df = df.sort_values(by=\"Timestamp\")\n",
    "    # Keep only the columns that are needed for the graph edge map\n",
    "    df = df[info_columns]\n",
    "\n",
    "    # Then for each row, find the next rows that is within the time threshold\n",
    "    graph_edge_map = []\n",
    "    for i in range(len(df)):\n",
    "        # Find the next rows that is:\n",
    "        # - within the time threshold\n",
    "        # - has the same Receiver_BIC\n",
    "        j = 1\n",
    "        while i + j < len(df) and (\n",
    "            (\n",
    "                pd.to_datetime(df[\"Timestamp\"].values[i + j])\n",
    "                - pd.to_datetime(df[\"Timestamp\"].values[i])\n",
    "            ).total_seconds()\n",
    "            < time_threshold\n",
    "        ):\n",
    "            if df[\"Receiver_BIC\"].values[i + j] == df[\"Receiver_BIC\"].values[i]:\n",
    "                graph_edge_map.append(\n",
    "                    [df[\"Transaction_ID\"].values[i], df[\"Transaction_ID\"].values[i + j]]\n",
    "                )\n",
    "            j += 1\n",
    "\n",
    "    print(\n",
    "        f\"Generated edge map for {ds_name}, in total {len(graph_edge_map)} valid edges for {len(df)} transactions\"\n",
    "    )\n",
    "\n",
    "    edge_maps[ds_name] = pd.DataFrame(graph_edge_map)"
   ]
  },
  {
   "cell_type": "code",
   "execution_count": 7,
   "id": "7780ab4d-7d1d-4eda-96e1-eed9243eff11",
   "metadata": {
    "tags": []
   },
   "outputs": [
    {
     "data": {
      "text/html": [
       "<div>\n",
       "<style scoped>\n",
       "    .dataframe tbody tr th:only-of-type {\n",
       "        vertical-align: middle;\n",
       "    }\n",
       "\n",
       "    .dataframe tbody tr th {\n",
       "        vertical-align: top;\n",
       "    }\n",
       "\n",
       "    .dataframe thead th {\n",
       "        text-align: right;\n",
       "    }\n",
       "</style>\n",
       "<table border=\"1\" class=\"dataframe\">\n",
       "  <thead>\n",
       "    <tr style=\"text-align: right;\">\n",
       "      <th></th>\n",
       "      <th>0</th>\n",
       "      <th>1</th>\n",
       "    </tr>\n",
       "  </thead>\n",
       "  <tbody>\n",
       "    <tr>\n",
       "      <th>0</th>\n",
       "      <td>TXN_16666</td>\n",
       "      <td>TXN_13793</td>\n",
       "    </tr>\n",
       "    <tr>\n",
       "      <th>1</th>\n",
       "      <td>TXN_34739</td>\n",
       "      <td>TXN_40225</td>\n",
       "    </tr>\n",
       "    <tr>\n",
       "      <th>2</th>\n",
       "      <td>TXN_49845</td>\n",
       "      <td>TXN_23704</td>\n",
       "    </tr>\n",
       "    <tr>\n",
       "      <th>3</th>\n",
       "      <td>TXN_41197</td>\n",
       "      <td>TXN_37760</td>\n",
       "    </tr>\n",
       "    <tr>\n",
       "      <th>4</th>\n",
       "      <td>TXN_12795</td>\n",
       "      <td>TXN_22274</td>\n",
       "    </tr>\n",
       "    <tr>\n",
       "      <th>...</th>\n",
       "      <td>...</td>\n",
       "      <td>...</td>\n",
       "    </tr>\n",
       "    <tr>\n",
       "      <th>541</th>\n",
       "      <td>TXN_23461</td>\n",
       "      <td>TXN_46030</td>\n",
       "    </tr>\n",
       "    <tr>\n",
       "      <th>542</th>\n",
       "      <td>TXN_45866</td>\n",
       "      <td>TXN_1324</td>\n",
       "    </tr>\n",
       "    <tr>\n",
       "      <th>543</th>\n",
       "      <td>TXN_1324</td>\n",
       "      <td>TXN_16461</td>\n",
       "    </tr>\n",
       "    <tr>\n",
       "      <th>544</th>\n",
       "      <td>TXN_44217</td>\n",
       "      <td>TXN_14550</td>\n",
       "    </tr>\n",
       "    <tr>\n",
       "      <th>545</th>\n",
       "      <td>TXN_38974</td>\n",
       "      <td>TXN_25394</td>\n",
       "    </tr>\n",
       "  </tbody>\n",
       "</table>\n",
       "<p>546 rows × 2 columns</p>\n",
       "</div>"
      ],
      "text/plain": [
       "             0          1\n",
       "0    TXN_16666  TXN_13793\n",
       "1    TXN_34739  TXN_40225\n",
       "2    TXN_49845  TXN_23704\n",
       "3    TXN_41197  TXN_37760\n",
       "4    TXN_12795  TXN_22274\n",
       "..         ...        ...\n",
       "541  TXN_23461  TXN_46030\n",
       "542  TXN_45866   TXN_1324\n",
       "543   TXN_1324  TXN_16461\n",
       "544  TXN_44217  TXN_14550\n",
       "545  TXN_38974  TXN_25394\n",
       "\n",
       "[546 rows x 2 columns]"
      ]
     },
     "execution_count": 7,
     "metadata": {},
     "output_type": "execute_result"
    }
   ],
   "source": [
    "edge_maps[\"train\"]"
   ]
  },
  {
   "cell_type": "code",
   "execution_count": 8,
   "id": "f326a613-e683-4f67-810d-aece3d90349e",
   "metadata": {
    "tags": []
   },
   "outputs": [
    {
     "name": "stdout",
     "output_type": "stream",
     "text": [
      "save to =  processed_data/HCBHSGSG_Bank_9/train_edgemap.csv\n",
      "save to =  processed_data/HCBHSGSG_Bank_9/test_edgemap.csv\n"
     ]
    }
   ],
   "source": [
    "for name in edge_maps:\n",
    "    site_dir = os.path.join(site_input_dir, site_name)\n",
    "    os.makedirs(site_dir, exist_ok=True)\n",
    "    edge_map_file_name = os.path.join(site_dir, f\"{name}_edgemap.csv\")\n",
    "    print(\"save to = \", edge_map_file_name)\n",
    "    # save to csv file without header and index\n",
    "    edge_maps[name].to_csv(edge_map_file_name, header=False, index=False)"
   ]
  },
  {
   "cell_type": "markdown",
   "id": "8591e4e1-74b1-465c-8124-eaf9829a6a8e",
   "metadata": {},
   "source": [
    "Let's go back to the [XGBoost Notebook](../xgboost.ipynb)"
   ]
  }
 ],
 "metadata": {
  "kernelspec": {
   "display_name": ".venv",
   "language": "python",
   "name": "python3"
  },
  "language_info": {
   "codemirror_mode": {
    "name": "ipython",
    "version": 3
   },
   "file_extension": ".py",
   "mimetype": "text/x-python",
   "name": "python",
   "nbconvert_exporter": "python",
   "pygments_lexer": "ipython3",
   "version": "3.12.8"
  }
 },
 "nbformat": 4,
 "nbformat_minor": 5
}
